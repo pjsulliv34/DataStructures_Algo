{
 "cells": [
  {
   "cell_type": "code",
   "execution_count": 43,
   "metadata": {},
   "outputs": [
    {
     "name": "stdout",
     "output_type": "stream",
     "text": [
      "ABCDE-+$*EF*-\n",
      "None\n"
     ]
    }
   ],
   "source": [
    "#from lab2.stack import StackArray\n",
    "#from lab1_functions import process_input_file\n",
    "from operand import Operands\n",
    "operators = ['+','-','/','*','$']\n",
    "def reverse_order(string):\n",
    "    if len(string) == 0:\n",
    "        return string   \n",
    "    return string[-1] + reverse_order(string[:-1])\n",
    "\n",
    "    # This Method converts from prefix to post fix\n",
    "reverse_string = reverse_order('-*A$B+C-DE*EF')\n",
    "\n",
    "def pre_to_post(string, postfix = [], index = 0):\n",
    "    if index >= len(string):\n",
    "        print(''.join(postfix))\n",
    "        return postfix[0]\n",
    "    char = string[index]\n",
    "    if char not in operators:\n",
    "        postfix.append(char)\n",
    "        index +=1\n",
    "        pre_to_post(string, postfix, index)\n",
    "    else:\n",
    "        item1 = postfix.pop()\n",
    "        item2 = postfix.pop()\n",
    "        operand = Operands(item1,item2,char,'Pre_Post')\n",
    "        postfix.append(operand.combine_operands())\n",
    "        index +=1\n",
    "        pre_to_post(string, postfix, index)\n",
    "\n",
    "x = pre_to_post(reverse_string)\n",
    "print(x)\n"
   ]
  },
  {
   "cell_type": "code",
   "execution_count": null,
   "metadata": {},
   "outputs": [],
   "source": []
  },
  {
   "cell_type": "code",
   "execution_count": 6,
   "metadata": {},
   "outputs": [
    {
     "name": "stdout",
     "output_type": "stream",
     "text": [
      "esrever\n"
     ]
    }
   ],
   "source": [
    "def reverse_string(string):\n",
    "    if len(string) == 0:\n",
    "        return string   \n",
    "    return string[-1] + reverse_string(string[:-1])\n"
   ]
  },
  {
   "cell_type": "code",
   "execution_count": 68,
   "metadata": {},
   "outputs": [],
   "source": [
    "def post_to_pre(string, prefix = None, index = 0):\n",
    "    if prefix == None:\n",
    "        prefix = []\n",
    "    if index >= len(string):\n",
    "        print(f'final postfix {prefix}')\n",
    "        if len(prefix) >1:\n",
    "            return 'Incorrect Number of Operators'\n",
    "        else:\n",
    "            print('in the final')\n",
    "            final_item = prefix.pop()\n",
    "            print(final_item)\n",
    "            return (final_item)\n",
    "    char = string[index]\n",
    "    print(char)\n",
    "    if char not in operators:\n",
    "        print('running here')\n",
    "        prefix.append(char)\n",
    "        index +=1\n",
    "        return post_to_pre(string,prefix, index)\n",
    "    else:\n",
    "        print('running this else')\n",
    "        if len(prefix) <2:\n",
    "            print(prefix)\n",
    "            print('incorrect number of operands--------------------')\n",
    "            return \"Incorrect Number of Operands\"\n",
    "        else:\n",
    "            print('running')\n",
    "            item1 = prefix.pop()\n",
    "            item2 = prefix.pop()\n",
    "            operand = Operands(item1,item2,char,'Post_Pre')\n",
    "            prefix.append(operand.combine_operands())\n",
    "            index +=1\n",
    "            return post_to_pre(string,prefix, index)\n"
   ]
  },
  {
   "cell_type": "code",
   "execution_count": 69,
   "metadata": {},
   "outputs": [
    {
     "name": "stdout",
     "output_type": "stream",
     "text": [
      "A\n",
      "running here\n",
      "DCBA+*-\n"
     ]
    }
   ],
   "source": [
    "post_to_pre(string = 'AB+C*D-')"
   ]
  },
  {
   "cell_type": "code",
   "execution_count": null,
   "metadata": {},
   "outputs": [],
   "source": []
  }
 ],
 "metadata": {
  "kernelspec": {
   "display_name": "Python 3",
   "language": "python",
   "name": "python3"
  },
  "language_info": {
   "codemirror_mode": {
    "name": "ipython",
    "version": 3
   },
   "file_extension": ".py",
   "mimetype": "text/x-python",
   "name": "python",
   "nbconvert_exporter": "python",
   "pygments_lexer": "ipython3",
   "version": "3.12.2"
  }
 },
 "nbformat": 4,
 "nbformat_minor": 2
}
