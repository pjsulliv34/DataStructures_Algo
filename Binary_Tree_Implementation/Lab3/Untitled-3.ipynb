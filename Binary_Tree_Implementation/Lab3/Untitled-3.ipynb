{
 "cells": [
  {
   "cell_type": "code",
   "execution_count": null,
   "metadata": {},
   "outputs": [],
   "source": []
  },
  {
   "cell_type": "code",
   "execution_count": 1,
   "metadata": {},
   "outputs": [],
   "source": []
  },
  {
   "cell_type": "code",
   "execution_count": 1,
   "metadata": {},
   "outputs": [
    {
     "name": "stdout",
     "output_type": "stream",
     "text": [
      "{'A': 19, 'B': 16, 'C': 17, 'D': 11, 'E': 42, 'F': 12, 'G': 14, 'H': 17, 'I': 16, 'J': 5, 'K': 10, 'L': 20, 'M': 19, 'N': 24, 'O': 18, 'P': 13, 'Q': 1, 'R': 25, 'S': 35, 'T': 25, 'U': 15, 'V': 5, 'W': 21, 'X': 2, 'Y': 8, 'Z': 3}\n",
      "[('E', 42), ('S', 35), ('R', 25), ('T', 25), ('N', 24), ('W', 21), ('L', 20), ('A', 19), ('M', 19), ('O', 18), ('C', 17), ('H', 17), ('B', 16), ('I', 16), ('U', 15), ('G', 14), ('P', 13), ('F', 12), ('D', 11), ('K', 10), ('Y', 8), ('J', 5), ('V', 5), ('Z', 3), ('X', 2), ('Q', 1)]\n"
     ]
    },
    {
     "ename": "NameError",
     "evalue": "name 'nodes' is not defined",
     "output_type": "error",
     "traceback": [
      "\u001b[1;31m---------------------------------------------------------------------------\u001b[0m",
      "\u001b[1;31mNameError\u001b[0m                                 Traceback (most recent call last)",
      "Cell \u001b[1;32mIn[1], line 49\u001b[0m\n\u001b[0;32m     46\u001b[0m \u001b[38;5;28mprint\u001b[39m(freq)\n\u001b[0;32m     47\u001b[0m \u001b[38;5;66;03m# nodes = freq\u001b[39;00m\n\u001b[1;32m---> 49\u001b[0m \u001b[38;5;28;01mwhile\u001b[39;00m \u001b[38;5;28mlen\u001b[39m(\u001b[43mnodes\u001b[49m) \u001b[38;5;241m>\u001b[39m \u001b[38;5;241m1\u001b[39m:\n\u001b[0;32m     50\u001b[0m     (key1, c1) \u001b[38;5;241m=\u001b[39m nodes[\u001b[38;5;241m-\u001b[39m\u001b[38;5;241m1\u001b[39m]\n\u001b[0;32m     51\u001b[0m     (key2, c2) \u001b[38;5;241m=\u001b[39m nodes[\u001b[38;5;241m-\u001b[39m\u001b[38;5;241m2\u001b[39m]\n",
      "\u001b[1;31mNameError\u001b[0m: name 'nodes' is not defined"
     ]
    }
   ],
   "source": [
    "# # Huffman Coding in python\n",
    "\n",
    "# string = 'BCAADDDCCACACAC'\n",
    "\n",
    "\n",
    "# Creating tree nodes\n",
    "class NodeTree(object):\n",
    "\n",
    "    def __init__(self, left=None, right=None):\n",
    "        self.left = left\n",
    "        self.right = right\n",
    "\n",
    "    def children(self):\n",
    "        return (self.left, self.right)\n",
    "\n",
    "    def nodes(self):\n",
    "        return (self.left, self.right)\n",
    "\n",
    "    def __str__(self):\n",
    "        return '%s_%s' % (self.left, self.right)\n",
    "\n",
    "\n",
    "# # Main function implementing huffman coding\n",
    "def huffman_code_tree(node, left=True, binString=''):\n",
    "    if type(node) is str:\n",
    "        return {node: binString}\n",
    "    (l, r) = node.children()\n",
    "    d = dict()\n",
    "    d.update(huffman_code_tree(l, True, binString + '0'))\n",
    "    d.update(huffman_code_tree(r, False, binString + '1'))\n",
    "    return d\n",
    "\n",
    "\n",
    "freq = {\n",
    "    'A': 19, 'B': 16, 'C': 17, 'D': 11, 'E': 42, \n",
    "    'F': 12, 'G': 14, 'H': 17, 'I': 16, 'J': 5, \n",
    "    'K': 10, 'L': 20, 'M': 19, 'N': 24, 'O': 18, \n",
    "    'P': 13, 'Q': 1, 'R': 25, 'S': 35, 'T': 25, \n",
    "    'U': 15, 'V': 5, 'W': 21, 'X': 2, 'Y': 8, \n",
    "    'Z': 3\n",
    "}\n",
    "\n",
    "\n",
    "print(freq)\n",
    "freq = sorted(freq.items(), key=lambda x: x[1], reverse=True)\n",
    "print(freq)\n",
    "nodes = freq\n",
    "\n",
    "while len(nodes) > 1:\n",
    "    (key1, c1) = nodes[-1]\n",
    "    (key2, c2) = nodes[-2]\n",
    "    nodes = nodes[:-2]\n",
    "    node = NodeTree(key1, key2)\n",
    "    nodes.append((node, c1 + c2))\n",
    "    # print(nodes)\n",
    "    nodes = sorted(nodes, key=lambda x: x[1], reverse=True)\n",
    "\n",
    "huffmanCode = huffman_code_tree(nodes[0][0])\n",
    "print(huffmanCode)\n",
    "\n",
    "print(' Char | Huffman code ')\n",
    "print('----------------------')\n",
    "for (char, frequency) in freq:\n",
    "    print(' %-4r |%12s' % (char, huffmanCode[char]))"
   ]
  },
  {
   "cell_type": "code",
   "execution_count": null,
   "metadata": {},
   "outputs": [],
   "source": []
  },
  {
   "cell_type": "code",
   "execution_count": null,
   "metadata": {},
   "outputs": [],
   "source": []
  }
 ],
 "metadata": {
  "kernelspec": {
   "display_name": "Python 3",
   "language": "python",
   "name": "python3"
  },
  "language_info": {
   "codemirror_mode": {
    "name": "ipython",
    "version": 3
   },
   "file_extension": ".py",
   "mimetype": "text/x-python",
   "name": "python",
   "nbconvert_exporter": "python",
   "pygments_lexer": "ipython3",
   "version": "3.12.2"
  }
 },
 "nbformat": 4,
 "nbformat_minor": 2
}
