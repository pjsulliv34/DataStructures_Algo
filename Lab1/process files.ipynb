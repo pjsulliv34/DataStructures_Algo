{
 "cells": [
  {
   "cell_type": "code",
   "execution_count": 1,
   "metadata": {},
   "outputs": [
    {
     "name": "stdout",
     "output_type": "stream",
     "text": [
      "A,B+\n",
      "AB+,C-\n",
      "['AB+C-']\n",
      "B,C+\n",
      "A,BC+-\n",
      "['ABC+-']\n",
      "E,F-\n",
      "D,EF-+\n",
      "A,B-\n",
      "AB-,C+\n",
      "AB-C+,DEF-+$\n",
      "['AB-C+DEF-+$']\n",
      "E,F*\n",
      "D,E-\n",
      "C,DE-+\n",
      "B,CDE-+$\n",
      "A,BCDE-+$*\n",
      "ABCDE-+$*,EF*-\n",
      "['ABCDE-+$*EF*-']\n",
      "B,A-\n",
      "C,BA-+\n",
      "B,C+\n",
      "A,BC+*\n",
      "ABC+*,CBA-+*\n",
      "['ABC+*CBA-+*']\n",
      "B,A*\n",
      "C,BA*+\n",
      "B,C+\n",
      "A,BC+/\n",
      "['CBA*+', 'ABC+/']\n",
      "B,A+\n",
      "A,B-\n",
      "AB-,C*\n",
      "AB-C*,BA+-\n",
      "AB-C*BA+-,None*\n",
      "B,A-\n",
      "B,C-\n",
      "A,BC-/\n",
      "ABC-/,BA-+\n",
      "ABC-/BA-+,None/\n",
      "B,A-\n",
      "C,BA-+\n",
      "B,C+\n",
      "A,BC+$\n",
      "ABC+$,CBA-+*\n",
      "['ABC+$CBA-+*']\n",
      "B,A+\n",
      "C,BA+-\n",
      "B,0+\n",
      "A,B0+/\n",
      "AB0+/,CBA+-/\n",
      "['AB0+/CBA+-/']\n",
      "B,A-\n",
      "C,BA-+\n",
      "B,C$\n",
      "A,BC$$\n",
      "ABC$$,CBA-+*\n",
      "['ABC$$CBA-+*']\n",
      "[['-+ABC', 'AB+C-'], ['-A+BC', 'ABC+-'], ['$+-ABC+D-EF', 'AB-C+DEF-+$'], ['-*A$B+C-DE*EF', 'ABCDE-+$*EF*-'], ['**A+BC+C-BA', 'ABC+*CBA-+*'], ['/A+BC+C*BA', 'Incorrect Number of Operators'], ['*-*-ABC+BA', 'Incorrect Number of Operands'], ['/+/A-BC-BA', 'Incorrect Number of Operands'], ['*$A+BC+C-BA', 'ABC+$CBA-+*'], ['//A+B0-C+BA', 'AB0+/CBA+-/'], ['*$A$BC+C-BA', 'ABC$$CBA-+*']]\n"
     ]
    }
   ],
   "source": [
    "from pathlib import Path\n",
    "import argparse\n",
    "from expressions_v2 import Expressions\n",
    "\n",
    "def process_input_file(input,output):\n",
    "    Processed_data = []\n",
    "    with open(input,'r') as reader:\n",
    "        while True:\n",
    "            line = reader.readline().strip()\n",
    "            line = line.replace(' ', '')\n",
    "            line = line.replace('^','$')\n",
    "            if line == '':\n",
    "                break\n",
    "            #print(f\"Working on {line}\")\n",
    "            \n",
    "            try:\n",
    "                # print(f'Initial len {len(line)}')\n",
    "                Prefix_object = Expressions(line,'Prefix')\n",
    "                post_fix = Prefix_object.to_post_fix()\n",
    "                #print(f'{post_fix}, postifx')\n",
    "                Processed_data.append([line,post_fix])\n",
    "\n",
    "                \n",
    "            except:\n",
    "                print(f\"Line not working: {line}\")\n",
    "                print(post_fix)\n",
    "                Processed_data.append([line,'Unknown Error'])\n",
    "\n",
    "    print(Processed_data)\n",
    "    with open(output, 'w') as writer:\n",
    "        index = 1\n",
    "        for line in Processed_data:\n",
    "            writer.write(f\"Testcase {index}\\n Prefix: {line[0]}\\n Postfix: {line[1]}\\n\")\n",
    "            index +=1\n",
    "            \n",
    "\n",
    "            \n",
    "            \n",
    "            \n",
    "\n",
    "loc_ = r\"C:\\Users\\pjsul\\OneDrive\\Desktop\\Masters AI Courses\\Data Structures\\Labs\\Lab1_submission\\resources\\Required Input.txt\"\n",
    "output = r\"C:\\Users\\pjsul\\OneDrive\\Desktop\\Masters AI Courses\\Data Structures\\Labs\\Lab1_submission\\resources\\output.txt\"\n",
    "\n",
    "process_input_file(loc_,output)\n"
   ]
  },
  {
   "cell_type": "code",
   "execution_count": 5,
   "metadata": {},
   "outputs": [
    {
     "name": "stdout",
     "output_type": "stream",
     "text": [
      "CBA*+\n"
     ]
    }
   ],
   "source": [
    "from expressions_v2 import Expressions\n",
    "test = Expressions('/A+BC+C*BA','Prefix')\n",
    "test.to_post_fix()\n",
    "x = test.to_post_fix()\n",
    "print(x)"
   ]
  },
  {
   "cell_type": "code",
   "execution_count": 3,
   "metadata": {},
   "outputs": [
    {
     "ename": "TypeError",
     "evalue": "can only concatenate str (not \"NoneType\") to str",
     "output_type": "error",
     "traceback": [
      "\u001b[1;31m---------------------------------------------------------------------------\u001b[0m",
      "\u001b[1;31mTypeError\u001b[0m                                 Traceback (most recent call last)",
      "Cell \u001b[1;32mIn[3], line 3\u001b[0m\n\u001b[0;32m      1\u001b[0m \u001b[38;5;28;01mfrom\u001b[39;00m \u001b[38;5;21;01moperand\u001b[39;00m \u001b[38;5;28;01mimport\u001b[39;00m Operands\n\u001b[0;32m      2\u001b[0m op \u001b[38;5;241m=\u001b[39m Operands(\u001b[38;5;124m'\u001b[39m\u001b[38;5;124mA\u001b[39m\u001b[38;5;124m'\u001b[39m,\u001b[38;5;28;01mNone\u001b[39;00m,\u001b[38;5;124m'\u001b[39m\u001b[38;5;124mB\u001b[39m\u001b[38;5;124m'\u001b[39m,\u001b[38;5;124m'\u001b[39m\u001b[38;5;124mPost_Pre\u001b[39m\u001b[38;5;124m'\u001b[39m)\n\u001b[1;32m----> 3\u001b[0m \u001b[38;5;28mprint\u001b[39m(\u001b[43mop\u001b[49m\u001b[38;5;241;43m.\u001b[39;49m\u001b[43mcombine_operands\u001b[49m\u001b[43m(\u001b[49m\u001b[43m)\u001b[49m)\n",
      "File \u001b[1;32mc:\\Users\\pjsul\\OneDrive\\Desktop\\Masters AI Courses\\Data Structures\\Labs\\Lab1_submission\\Lab1\\operand.py:15\u001b[0m, in \u001b[0;36mOperands.combine_operands\u001b[1;34m(self)\u001b[0m\n\u001b[0;32m     13\u001b[0m \u001b[38;5;28;01mdef\u001b[39;00m \u001b[38;5;21mcombine_operands\u001b[39m(\u001b[38;5;28mself\u001b[39m):\n\u001b[0;32m     14\u001b[0m     \u001b[38;5;28;01mif\u001b[39;00m \u001b[38;5;28mself\u001b[39m\u001b[38;5;241m.\u001b[39mtype \u001b[38;5;129;01min\u001b[39;00m [\u001b[38;5;124m'\u001b[39m\u001b[38;5;124mPost_Pre\u001b[39m\u001b[38;5;124m'\u001b[39m, \u001b[38;5;124m'\u001b[39m\u001b[38;5;124mPre_Post\u001b[39m\u001b[38;5;124m'\u001b[39m]:\n\u001b[1;32m---> 15\u001b[0m         \u001b[38;5;28;01mreturn\u001b[39;00m \u001b[38;5;28;43mself\u001b[39;49m\u001b[38;5;241;43m.\u001b[39;49m\u001b[43mcombine_post_and_prefix\u001b[49m\u001b[43m(\u001b[49m\u001b[43m)\u001b[49m\n\u001b[0;32m     16\u001b[0m     \u001b[38;5;28;01melif\u001b[39;00m \u001b[38;5;28mself\u001b[39m\u001b[38;5;241m.\u001b[39mtype \u001b[38;5;241m==\u001b[39m \u001b[38;5;124m'\u001b[39m\u001b[38;5;124mPre_Infix\u001b[39m\u001b[38;5;124m'\u001b[39m:\n\u001b[0;32m     17\u001b[0m         \u001b[38;5;28;01mreturn\u001b[39;00m \u001b[38;5;28mself\u001b[39m\u001b[38;5;241m.\u001b[39mcombine_pre_infix()\n",
      "File \u001b[1;32mc:\\Users\\pjsul\\OneDrive\\Desktop\\Masters AI Courses\\Data Structures\\Labs\\Lab1_submission\\Lab1\\operand.py:22\u001b[0m, in \u001b[0;36mOperands.combine_post_and_prefix\u001b[1;34m(self)\u001b[0m\n\u001b[0;32m     21\u001b[0m \u001b[38;5;28;01mdef\u001b[39;00m \u001b[38;5;21mcombine_post_and_prefix\u001b[39m(\u001b[38;5;28mself\u001b[39m):\n\u001b[1;32m---> 22\u001b[0m     opperand \u001b[38;5;241m=\u001b[39m \u001b[38;5;28;43mself\u001b[39;49m\u001b[38;5;241;43m.\u001b[39;49m\u001b[43mop1\u001b[49m\u001b[43m \u001b[49m\u001b[38;5;241;43m+\u001b[39;49m\u001b[43m \u001b[49m\u001b[38;5;28;43mself\u001b[39;49m\u001b[38;5;241;43m.\u001b[39;49m\u001b[43mop2\u001b[49m \u001b[38;5;241m+\u001b[39m \u001b[38;5;28mself\u001b[39m\u001b[38;5;241m.\u001b[39mchar\n\u001b[0;32m     23\u001b[0m     \u001b[38;5;28;01mreturn\u001b[39;00m opperand\n",
      "\u001b[1;31mTypeError\u001b[0m: can only concatenate str (not \"NoneType\") to str"
     ]
    }
   ],
   "source": [
    "from operand import Operands\n",
    "op = Operands('A',None,'B','Post_Pre')\n",
    "print(op.combine_operands())"
   ]
  },
  {
   "cell_type": "code",
   "execution_count": null,
   "metadata": {},
   "outputs": [],
   "source": []
  }
 ],
 "metadata": {
  "kernelspec": {
   "display_name": "Python 3",
   "language": "python",
   "name": "python3"
  },
  "language_info": {
   "codemirror_mode": {
    "name": "ipython",
    "version": 3
   },
   "file_extension": ".py",
   "mimetype": "text/x-python",
   "name": "python",
   "nbconvert_exporter": "python",
   "pygments_lexer": "ipython3",
   "version": "3.12.2"
  }
 },
 "nbformat": 4,
 "nbformat_minor": 2
}
