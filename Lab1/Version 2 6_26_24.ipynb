{
 "cells": [
  {
   "cell_type": "code",
   "execution_count": 1,
   "metadata": {},
   "outputs": [],
   "source": [
    "class StackArray: \n",
    "    def __init__(self): \n",
    "        self.stack = []\n",
    " \n",
    "    def empty(self):\n",
    "        if len(self.stack) ==0 :\n",
    "            return True\n",
    "        else:\n",
    "            return False\n",
    "    \n",
    "    def peek(self):\n",
    "        if self.empty() == False:\n",
    "            return self.stack[len(self.stack)-1]\n",
    "        else:\n",
    "            print('Stack is Empty')\n",
    "\n",
    "    def pop(self):\n",
    "        if self.empty() == False:\n",
    "            item = self.stack[-1]\n",
    "            self.stack = self.stack[:-1]\n",
    "            return item\n",
    "        else:\n",
    "            print('Stack is empty, No items to pop')\n",
    "\n",
    "    def push(self,item):\n",
    "        self.stack.append(item)\n",
    "\n",
    "    def display_stack(self):\n",
    "        print(self.stack)\n",
    "\n",
    "    def return_object(self):\n",
    "        return self.stack"
   ]
  },
  {
   "cell_type": "code",
   "execution_count": 2,
   "metadata": {},
   "outputs": [
    {
     "data": {
      "text/plain": [
       "'IHG*FE+/DCB$*-A++'"
      ]
     },
     "execution_count": 2,
     "metadata": {},
     "output_type": "execute_result"
    }
   ],
   "source": [
    "# def reverse_order(string):\n",
    "#     temp_stack = StackArray()\n",
    "#     for char in string:\n",
    "#         #print(char)\n",
    "#         temp_stack.push(char)\n",
    "#     reverse_string = ''\n",
    "#     #temp_stack.display_list()\n",
    "    \n",
    "#     while temp_stack.empty() == False:\n",
    "#         char = temp_stack.pop()\n",
    "#         #print(char)\n",
    "#         reverse_string = reverse_string+char  \n",
    "#     return reverse_string\n",
    "\n",
    "\n",
    "# test = '++A-*$BCD/+EF*GHI'\n",
    "# reverse_order(test)"
   ]
  },
  {
   "cell_type": "code",
   "execution_count": 22,
   "metadata": {},
   "outputs": [],
   "source": [
    "class Expressions:\n",
    "    def __init__(self, string, type):\n",
    "        self.string = string\n",
    "        self.type = type\n",
    "        self.valid_types = ['Prefix','Postfix','Infix']\n",
    "        if self.type not in self.valid_types:\n",
    "            print(f\"The type you entered: {type}, is incorrect. Please enter a type from the following: {self.valid_types}\")\n",
    "\n",
    "    def to_post_fix(self):\n",
    "        if self.type == 'Prefix':\n",
    "            self.pre_to_post()\n",
    "        elif self.type == 'Infix':\n",
    "            print(\"Process does not exist at the moment! Try again another time.\")\n",
    "        else:\n",
    "            pass\n",
    "        \n",
    "    def to_pre_fix(self):\n",
    "        if self.type == 'Postfix':\n",
    "            self.post_to_pre()\n",
    "        elif self.type == 'Infix':\n",
    "            print(\"Process does not exist at the moment. Try again another time.\")\n",
    "\n",
    "    def to_infix(self):\n",
    "        if self.type =='Prefix':\n",
    "           self.pre_to_infix()\n",
    "        elif self.type == 'Postfix':\n",
    "           self.post_to_infix()\n",
    "        else:\n",
    "            return self.string\n",
    "               \n",
    "    operators = ['+','-','/','*','$','(',')']\n",
    "\n",
    "    def pre_to_post(self):\n",
    "        stack = StackArray()\n",
    "        for char in self.reverse_order(self.string):\n",
    "            if char not in Expressions.operators: \n",
    "                stack.push(char)\n",
    "            elif char in Expressions.operators:\n",
    "                pop1 = stack.pop()\n",
    "                pop2 = stack.pop()\n",
    "                stack.push(pop1+pop2+char)\n",
    "                \n",
    "        #stack.display_list()\n",
    "        print(stack.return_object()[0])\n",
    "\n",
    "    def post_to_pre(self):\n",
    "        stack = StackArray()\n",
    "        for char in self.string:\n",
    "            if char not in Expressions.operators: \n",
    "                stack.push(char)\n",
    "            elif char in Expressions.operators:\n",
    "                pop1 = stack.pop()\n",
    "                pop2 = stack.pop()\n",
    "                stack.push(pop1+pop2+char)\n",
    "        print(self.reverse_order(stack.return_object()[0]))\n",
    "\n",
    "    def pre_to_infix(self):\n",
    "        stack = StackArray()\n",
    "        for char in self.reverse_order(self.string):\n",
    "            if char not in Expressions.operators: \n",
    "                stack.push(char)\n",
    "            elif char in Expressions.operators:\n",
    "                pop1 = stack.pop()\n",
    "                pop2 = stack.pop()\n",
    "                stack.push(f\"({pop1}{char}{pop2})\")\n",
    "        #stack.display_stack()\n",
    "        print(stack.return_object()[0])\n",
    "\n",
    "    def post_to_infix(self):\n",
    "        stack = StackArray()\n",
    "        for char in self.string:\n",
    "            if char not in Expressions.operators: \n",
    "                stack.push(char)\n",
    "            elif char in Expressions.operators:\n",
    "                pop1 = stack.pop()\n",
    "                pop2 = stack.pop()\n",
    "                stack.push(f\"({pop2}{char}{pop1})\")\n",
    "        #stack.display_stack()\n",
    "        print(stack.return_object()[0])\n",
    "\n",
    "    def reverse_order(self,string):\n",
    "        stack = StackArray()\n",
    "        for char in string:\n",
    "            #print(char)\n",
    "            stack.push(char)\n",
    "        reverse_string = ''\n",
    "        #stack.display_list()\n",
    "        \n",
    "        while stack.empty() == False:\n",
    "            char = stack.pop()\n",
    "            #print(char)\n",
    "            reverse_string = reverse_string+char  \n",
    "        return reverse_string\n",
    "        "
   ]
  },
  {
   "cell_type": "code",
   "execution_count": 23,
   "metadata": {},
   "outputs": [],
   "source": [
    "expressions = Expressions('*-A/BC-/AKL','Prefix')"
   ]
  },
  {
   "cell_type": "code",
   "execution_count": 24,
   "metadata": {},
   "outputs": [
    {
     "name": "stdout",
     "output_type": "stream",
     "text": [
      "ABC/-AK/L-*\n"
     ]
    }
   ],
   "source": [
    "expressions.to_post_fix()"
   ]
  },
  {
   "cell_type": "code",
   "execution_count": 25,
   "metadata": {},
   "outputs": [],
   "source": [
    "test1 = Expressions('ABC/-AK/L-*','Postfix')"
   ]
  },
  {
   "cell_type": "code",
   "execution_count": 26,
   "metadata": {},
   "outputs": [
    {
     "name": "stdout",
     "output_type": "stream",
     "text": [
      "*-A/BC-/AKL\n"
     ]
    }
   ],
   "source": [
    "test1.to_pre_fix()"
   ]
  },
  {
   "cell_type": "code",
   "execution_count": 27,
   "metadata": {},
   "outputs": [
    {
     "name": "stdout",
     "output_type": "stream",
     "text": [
      "((A+(((B$C)*D)-((E+F)/(G*H))))+I)\n"
     ]
    }
   ],
   "source": [
    "#pre to infix\n",
    "test2 = Expressions('++A-*$BCD/+EF*GHI','Prefix')\n",
    "test2.to_infix()\n"
   ]
  },
  {
   "cell_type": "code",
   "execution_count": 28,
   "metadata": {},
   "outputs": [
    {
     "name": "stdout",
     "output_type": "stream",
     "text": [
      "((A*(B$(C+(D-E))))-(E*F))\n"
     ]
    }
   ],
   "source": [
    "#post to infix\n",
    "test3 = Expressions('ABCDE-+$*EF*-','Postfix')\n",
    "test3.to_infix()"
   ]
  },
  {
   "cell_type": "code",
   "execution_count": 29,
   "metadata": {},
   "outputs": [
    {
     "name": "stdout",
     "output_type": "stream",
     "text": [
      "Process does not exist at the moment! Try again another time.\n"
     ]
    }
   ],
   "source": [
    "test4 = Expressions('dkdkd','Infix')\n",
    "test4.to_post_fix()"
   ]
  },
  {
   "cell_type": "code",
   "execution_count": null,
   "metadata": {},
   "outputs": [],
   "source": []
  }
 ],
 "metadata": {
  "kernelspec": {
   "display_name": "Python 3",
   "language": "python",
   "name": "python3"
  },
  "language_info": {
   "codemirror_mode": {
    "name": "ipython",
    "version": 3
   },
   "file_extension": ".py",
   "mimetype": "text/x-python",
   "name": "python",
   "nbconvert_exporter": "python",
   "pygments_lexer": "ipython3",
   "version": "3.12.2"
  }
 },
 "nbformat": 4,
 "nbformat_minor": 2
}
